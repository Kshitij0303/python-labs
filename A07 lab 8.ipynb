{
 "cells": [
  {
   "cell_type": "code",
   "execution_count": 2,
   "id": "9d666af4-fef9-4446-aaf9-84a5c4ec4a66",
   "metadata": {},
   "outputs": [
    {
     "name": "stdout",
     "output_type": "stream",
     "text": [
      "2.0.0\n"
     ]
    }
   ],
   "source": [
    "#To Check version of numpy \n",
    "import numpy as np\n",
    "\n",
    "\n",
    "print(np.__version__)\n"
   ]
  },
  {
   "cell_type": "code",
   "execution_count": 3,
   "id": "4fbda54b-4084-4308-b577-19c57a38aebe",
   "metadata": {},
   "outputs": [
    {
     "name": "stdout",
     "output_type": "stream",
     "text": [
      "True\n",
      "False\n"
     ]
    }
   ],
   "source": [
    "#To Find any non-zero elements in an array \n",
    "import numpy as np \n",
    "x=np.array([1,0,0,0]) \n",
    "print(np.any(x)) \n",
    "y=np.array([0,0,0,0]) \n",
    "print(np.any(y))\n"
   ]
  },
  {
   "cell_type": "code",
   "execution_count": 4,
   "id": "7b725215-691d-4b3d-ad03-55b29aae23c2",
   "metadata": {},
   "outputs": [
    {
     "name": "stdout",
     "output_type": "stream",
     "text": [
      "[ 1.  0. nan inf]\n",
      "Test the finiteness of elements of an array:\n",
      "[ True  True False False]\n"
     ]
    }
   ],
   "source": [
    "#To Find Finiteness of an array \n",
    "import numpy as np \n",
    "x=np.array([1,0, np. nan, np.inf]) \n",
    "print(x) \n",
    "print(\"Test the finiteness of elements of an array:\") \n",
    "print(np.isfinite(x))\n"
   ]
  },
  {
   "cell_type": "code",
   "execution_count": 7,
   "id": "426d8b1c-d9cb-431b-8371-47b0f37a914c",
   "metadata": {},
   "outputs": [
    {
     "name": "stdout",
     "output_type": "stream",
     "text": [
      "Positive Infinity: [False False  True False False False]\n",
      "Negative Infinity: [False False False  True False False]\n"
     ]
    }
   ],
   "source": [
    "#To Test element-wise positive or negative infinity. \n",
    "import numpy as np\n",
    "x = np.array([1, -2, np.inf, -np.inf, 0, 3.5]) \n",
    "result_posinf = np.isposinf(x) \n",
    "result_neginf = np.isneginf(x) \n",
    "print(\"Positive Infinity:\", result_posinf) \n",
    "print(\"Negative Infinity:\", result_neginf)"
   ]
  },
  {
   "cell_type": "code",
   "execution_count": 8,
   "id": "0e177907-2c3f-47fa-8f21-2a811dd778bb",
   "metadata": {},
   "outputs": [
    {
     "name": "stdout",
     "output_type": "stream",
     "text": [
      "[30 31 32 33 34 35 36 37 38 39 40 41 42 43 44 45 46 47 48 49 50 51 52 53\n",
      " 54 55 56 57 58 59 60 61 62 63 64 65 66 67 68 69 70]\n"
     ]
    }
   ],
   "source": [
    "#To print an array in a range \n",
    "import numpy as np\n",
    "arr = np.arange(30, 71)\n",
    "print(arr)"
   ]
  },
  {
   "cell_type": "code",
   "execution_count": 2,
   "id": "a8cb60b9-0b0e-41e2-ae62-b3d1690a675c",
   "metadata": {},
   "outputs": [
    {
     "name": "stdout",
     "output_type": "stream",
     "text": [
      "[30 32 34 36 38 40 42 44 46 48 50 52 54 56 58 60 62 64 66 68 70]\n"
     ]
    }
   ],
   "source": [
    "#To print on array of even numbers in a range \n",
    "import numpy as np\n",
    "arr = np.arange(30, 71, 2)\n",
    "print(arr)"
   ]
  },
  {
   "cell_type": "code",
   "execution_count": 3,
   "id": "e29e9271-aa5f-4cd6-8983-f930264bf2f0",
   "metadata": {},
   "outputs": [
    {
     "name": "stdout",
     "output_type": "stream",
     "text": [
      "[[1. 0. 0.]\n",
      " [0. 1. 0.]\n",
      " [0. 0. 1.]]\n"
     ]
    }
   ],
   "source": [
    "#To print a 3x3 identity matrix\n",
    "import numpy as np\n",
    "arr = np.identity(3)\n",
    "print(arr)"
   ]
  },
  {
   "cell_type": "code",
   "execution_count": 4,
   "id": "715aba59-e36d-4cbd-ae4e-5f96600f548a",
   "metadata": {},
   "outputs": [
    {
     "name": "stdout",
     "output_type": "stream",
     "text": [
      "[[1 0 0 0 0]\n",
      " [0 2 0 0 0]\n",
      " [0 0 3 0 0]\n",
      " [0 0 0 4 0]\n",
      " [0 0 0 0 5]]\n"
     ]
    }
   ],
   "source": [
    "#To create a 5x5 diagonal matrix\n",
    "import numpy as np\n",
    "arr = np.diag([1, 2, 3, 4, 5])\n",
    "print(arr)"
   ]
  },
  {
   "cell_type": "code",
   "execution_count": 5,
   "id": "3be57271-f6f4-4a7f-8dca-cde546774011",
   "metadata": {},
   "outputs": [
    {
     "name": "stdout",
     "output_type": "stream",
     "text": [
      "Matrix Products\n",
      "[[3 1]\n",
      " [5 3]]\n",
      "To cross-check\n",
      "[[3 1]\n",
      " [5 3]]\n",
      "Matrix Addition\n",
      "[[4 1]\n",
      " [3 3]]\n",
      "Matrix Subtraction\n",
      "[[-2 -1]\n",
      " [-1 -1]]\n"
     ]
    }
   ],
   "source": [
    "#To generate a matrix prroducts of two arrays\n",
    "import numpy as np\n",
    "\n",
    "x = np.array([[1, 0], [1, 1]])\n",
    "y = np.array([[3, 1], [2, 2]])\n",
    "\n",
    "print(\"Matrix Products\")\n",
    "print(np.dot(x, y))\n",
    "print(\"To cross-check\")\n",
    "print(np.matmul(x, y))\n",
    "\n",
    "print(\"Matrix Addition\")\n",
    "print(np.add(x, y))\n",
    "\n",
    "print(\"Matrix Subtraction\")\n",
    "print(np.subtract(x, y))"
   ]
  },
  {
   "cell_type": "code",
   "execution_count": 6,
   "id": "f9d05485-6cfc-4666-8622-b075836db60b",
   "metadata": {},
   "outputs": [
    {
     "name": "stdout",
     "output_type": "stream",
     "text": [
      "0.6\n"
     ]
    }
   ],
   "source": [
    "#To find mean of an array\n",
    "\n",
    "import numpy as np\n",
    "\n",
    "arr-np.array([10, 20, 30, 40, 50])\n",
    "\n",
    "print(np.mean(arr))"
   ]
  },
  {
   "cell_type": "code",
   "execution_count": 8,
   "id": "fe4ca49a-d74a-4792-88e0-6d20464567a5",
   "metadata": {},
   "outputs": [
    {
     "name": "stdout",
     "output_type": "stream",
     "text": [
      "[[10 30]\n",
      " [20 60]]\n",
      "Mean of Each Column\n",
      "[15. 45.]\n",
      "Mean of Each Row\n",
      "[20. 40.]\n"
     ]
    }
   ],
   "source": [
    "#To Find mean of axis of an array\n",
    "import numpy as np\n",
    "\n",
    "arr = np.array([[10, 30], [20, 60]])\n",
    "\n",
    "print(arr)\n",
    "\n",
    "print(\"Mean of Each Column\")\n",
    "print(arr.mean(axis=0))\n",
    "\n",
    "print(\"Mean of Each Row\")\n",
    "print(arr.mean(axis=1))"
   ]
  },
  {
   "cell_type": "code",
   "execution_count": 9,
   "id": "7a943786-7de2-446b-b015-813b4253b592",
   "metadata": {},
   "outputs": [
    {
     "name": "stdout",
     "output_type": "stream",
     "text": [
      "[0 1 2 3 4 5 6 7 8 9]\n"
     ]
    }
   ],
   "source": [
    "#To create an array in a range\n",
    "\n",
    "import numpy as np\n",
    "\n",
    "arr=np.arange(0,10)\n",
    "\n",
    "print(arr)"
   ]
  },
  {
   "cell_type": "code",
   "execution_count": 10,
   "id": "22c3cc3b-dbb8-4ef1-8fee-2667ff4ea1ca",
   "metadata": {},
   "outputs": [
    {
     "name": "stdout",
     "output_type": "stream",
     "text": [
      "Original 1D array:\n",
      "[10 20 30 40 50 60]\n",
      "2D aray thus created:\n",
      "[[10 20 30]\n",
      " [40 50 60]]\n",
      "3D array created:\n",
      "[[[10 20]]\n",
      "\n",
      " [[30 40]]\n",
      "\n",
      " [[50 60]]]\n"
     ]
    }
   ],
   "source": [
    "#To convert 10 array to 20 array\n",
    "\n",
    "import numpy as np\n",
    "\n",
    "arr=np.array([10,20,30,40,50,60])\n",
    "\n",
    "arr_2D=arr.reshape(2,3)\n",
    "\n",
    "arr_3D=arr.reshape (3,1,2)\n",
    "\n",
    "print(\"Original 1D array:\")\n",
    "\n",
    "print(arr)\n",
    "\n",
    "print(\"2D aray thus created:\")\n",
    "\n",
    "print(arr_2D)\n",
    "\n",
    "print(\"3D array created:\")\n",
    "\n",
    "print(arr_3D)\n"
   ]
  },
  {
   "cell_type": "code",
   "execution_count": null,
   "id": "1d954431-52ef-456b-849a-1b3f03333fb4",
   "metadata": {},
   "outputs": [],
   "source": []
  }
 ],
 "metadata": {
  "kernelspec": {
   "display_name": "Python 3 (ipykernel)",
   "language": "python",
   "name": "python3"
  },
  "language_info": {
   "codemirror_mode": {
    "name": "ipython",
    "version": 3
   },
   "file_extension": ".py",
   "mimetype": "text/x-python",
   "name": "python",
   "nbconvert_exporter": "python",
   "pygments_lexer": "ipython3",
   "version": "3.12.4"
  }
 },
 "nbformat": 4,
 "nbformat_minor": 5
}
